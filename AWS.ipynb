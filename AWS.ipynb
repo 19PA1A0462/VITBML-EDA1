{
  "nbformat": 4,
  "nbformat_minor": 0,
  "metadata": {
    "colab": {
      "name": "AWS",
      "provenance": [],
      "collapsed_sections": [],
      "toc_visible": true,
      "include_colab_link": true
    },
    "kernelspec": {
      "name": "python3",
      "display_name": "Python 3"
    }
  },
  "cells": [
    {
      "cell_type": "markdown",
      "metadata": {
        "id": "view-in-github",
        "colab_type": "text"
      },
      "source": [
        "<a href=\"https://colab.research.google.com/github/19PA1A0462/VITBML-EDA1/blob/master/AWS.ipynb\" target=\"_parent\"><img src=\"https://colab.research.google.com/assets/colab-badge.svg\" alt=\"Open In Colab\"/></a>"
      ]
    },
    {
      "cell_type": "code",
      "metadata": {
        "id": "AyDIaUByfSoV",
        "colab_type": "code",
        "outputId": "a4ea845f-392b-4257-f642-94f89820c8d2",
        "colab": {
          "base_uri": "https://localhost:8080/",
          "height": 960
        }
      },
      "source": [
        "import pandas as pd\n",
        "data=pd.read_excel('aws.xls.xlsx')\n",
        "data"
      ],
      "execution_count": 0,
      "outputs": [
        {
          "output_type": "execute_result",
          "data": {
            "text/html": [
              "<div>\n",
              "<style scoped>\n",
              "    .dataframe tbody tr th:only-of-type {\n",
              "        vertical-align: middle;\n",
              "    }\n",
              "\n",
              "    .dataframe tbody tr th {\n",
              "        vertical-align: top;\n",
              "    }\n",
              "\n",
              "    .dataframe thead th {\n",
              "        text-align: right;\n",
              "    }\n",
              "</style>\n",
              "<table border=\"1\" class=\"dataframe\">\n",
              "  <thead>\n",
              "    <tr style=\"text-align: right;\">\n",
              "      <th></th>\n",
              "      <th>marketplace</th>\n",
              "      <th>customer_id</th>\n",
              "      <th>review_id</th>\n",
              "      <th>product_id</th>\n",
              "      <th>product_parent</th>\n",
              "      <th>product_title</th>\n",
              "      <th>product_category</th>\n",
              "      <th>star_rating</th>\n",
              "      <th>helpful_votes</th>\n",
              "      <th>total_votes</th>\n",
              "      <th>vine</th>\n",
              "      <th>verified_purchase</th>\n",
              "      <th>review_headline</th>\n",
              "      <th>review_body</th>\n",
              "      <th>review_date</th>\n",
              "    </tr>\n",
              "  </thead>\n",
              "  <tbody>\n",
              "    <tr>\n",
              "      <th>0</th>\n",
              "      <td>US</td>\n",
              "      <td>32114233</td>\n",
              "      <td>R1QX6706ZWJ1P5</td>\n",
              "      <td>B00OYRW4UE</td>\n",
              "      <td>223980852</td>\n",
              "      <td>Elite Sportz Exercise Sliders are Double Sided...</td>\n",
              "      <td>Personal_Care_Appliances</td>\n",
              "      <td>5</td>\n",
              "      <td>0</td>\n",
              "      <td>0</td>\n",
              "      <td>N</td>\n",
              "      <td>Y</td>\n",
              "      <td>Good quality. Shipped</td>\n",
              "      <td>Exactly as described. Good quality. Shipped fast</td>\n",
              "      <td>2015-08-31</td>\n",
              "    </tr>\n",
              "    <tr>\n",
              "      <th>1</th>\n",
              "      <td>US</td>\n",
              "      <td>18125776</td>\n",
              "      <td>R3QWMLJHIW6P37</td>\n",
              "      <td>B0000537JQ</td>\n",
              "      <td>819771537</td>\n",
              "      <td>Ezy Dose Weekly</td>\n",
              "      <td>Personal_Care_Appliances</td>\n",
              "      <td>5</td>\n",
              "      <td>0</td>\n",
              "      <td>0</td>\n",
              "      <td>N</td>\n",
              "      <td>Y</td>\n",
              "      <td>Five Stars</td>\n",
              "      <td>It is great</td>\n",
              "      <td>2015-08-31</td>\n",
              "    </tr>\n",
              "    <tr>\n",
              "      <th>2</th>\n",
              "      <td>US</td>\n",
              "      <td>19917519</td>\n",
              "      <td>R14Z1VR1N0Z9G6</td>\n",
              "      <td>B00HXXO332</td>\n",
              "      <td>849307176</td>\n",
              "      <td>Pulse Oximeter, Blood Oxygen Monitor</td>\n",
              "      <td>Personal_Care_Appliances</td>\n",
              "      <td>5</td>\n",
              "      <td>1</td>\n",
              "      <td>1</td>\n",
              "      <td>N</td>\n",
              "      <td>Y</td>\n",
              "      <td>It's really nice it works great</td>\n",
              "      <td>It's really nice it works great. You have the ...</td>\n",
              "      <td>2015-08-31</td>\n",
              "    </tr>\n",
              "    <tr>\n",
              "      <th>3</th>\n",
              "      <td>US</td>\n",
              "      <td>18277171</td>\n",
              "      <td>R25ZRJL0GH0U0</td>\n",
              "      <td>B00EOB0JA2</td>\n",
              "      <td>700864740</td>\n",
              "      <td>SE Tools Tool Kit Watch Watch Repair Kit (20 P...</td>\n",
              "      <td>Personal_Care_Appliances</td>\n",
              "      <td>2</td>\n",
              "      <td>0</td>\n",
              "      <td>0</td>\n",
              "      <td>N</td>\n",
              "      <td>Y</td>\n",
              "      <td>Two Stars</td>\n",
              "      <td>The kit works fine... simple cheap plastic tho</td>\n",
              "      <td>2015-08-31</td>\n",
              "    </tr>\n",
              "    <tr>\n",
              "      <th>4</th>\n",
              "      <td>US</td>\n",
              "      <td>2593270</td>\n",
              "      <td>R3837KYH7AZNIY</td>\n",
              "      <td>B00OC2O1UC</td>\n",
              "      <td>794298839</td>\n",
              "      <td>doTERRA HD Clear Facial Kit - Facial Lotion, F...</td>\n",
              "      <td>Personal_Care_Appliances</td>\n",
              "      <td>4</td>\n",
              "      <td>0</td>\n",
              "      <td>1</td>\n",
              "      <td>N</td>\n",
              "      <td>Y</td>\n",
              "      <td>Four Stars</td>\n",
              "      <td>It works better than anything else ive tried</td>\n",
              "      <td>2015-08-31</td>\n",
              "    </tr>\n",
              "    <tr>\n",
              "      <th>...</th>\n",
              "      <td>...</td>\n",
              "      <td>...</td>\n",
              "      <td>...</td>\n",
              "      <td>...</td>\n",
              "      <td>...</td>\n",
              "      <td>...</td>\n",
              "      <td>...</td>\n",
              "      <td>...</td>\n",
              "      <td>...</td>\n",
              "      <td>...</td>\n",
              "      <td>...</td>\n",
              "      <td>...</td>\n",
              "      <td>...</td>\n",
              "      <td>...</td>\n",
              "      <td>...</td>\n",
              "    </tr>\n",
              "    <tr>\n",
              "      <th>85976</th>\n",
              "      <td>US</td>\n",
              "      <td>52536938</td>\n",
              "      <td>R1NUYN39WEVD9X</td>\n",
              "      <td>B000050FDR</td>\n",
              "      <td>560045260</td>\n",
              "      <td>Braun 7570 Syncro Shaver System with Clean &amp; C...</td>\n",
              "      <td>Personal_Care_Appliances</td>\n",
              "      <td>5</td>\n",
              "      <td>96</td>\n",
              "      <td>98</td>\n",
              "      <td>N</td>\n",
              "      <td>N</td>\n",
              "      <td>Awesome Shaver!</td>\n",
              "      <td>This shaver gives a very percise shave and is ...</td>\n",
              "      <td>2000-11-12</td>\n",
              "    </tr>\n",
              "    <tr>\n",
              "      <th>85977</th>\n",
              "      <td>US</td>\n",
              "      <td>47435897</td>\n",
              "      <td>RD17SQQ58L34O</td>\n",
              "      <td>B000050FDP</td>\n",
              "      <td>984726393</td>\n",
              "      <td>Braun 6520 Flex Integral Ultra Speed Rechargea...</td>\n",
              "      <td>Personal_Care_Appliances</td>\n",
              "      <td>5</td>\n",
              "      <td>46</td>\n",
              "      <td>48</td>\n",
              "      <td>N</td>\n",
              "      <td>N</td>\n",
              "      <td>This shaver rocks!</td>\n",
              "      <td>Talk about a smooth shave.  The blades are clo...</td>\n",
              "      <td>2000-11-12</td>\n",
              "    </tr>\n",
              "    <tr>\n",
              "      <th>85978</th>\n",
              "      <td>US</td>\n",
              "      <td>48581323</td>\n",
              "      <td>R30DX2RCMIKQ90</td>\n",
              "      <td>B000050FDN</td>\n",
              "      <td>920405412</td>\n",
              "      <td>Braun 5414 Flex Integral Rechargeable Shaver</td>\n",
              "      <td>Personal_Care_Appliances</td>\n",
              "      <td>5</td>\n",
              "      <td>31</td>\n",
              "      <td>34</td>\n",
              "      <td>N</td>\n",
              "      <td>N</td>\n",
              "      <td>The Braun Rechargeable Shaver</td>\n",
              "      <td>This shaver was amazing! Not only did I get on...</td>\n",
              "      <td>2000-11-11</td>\n",
              "    </tr>\n",
              "    <tr>\n",
              "      <th>85979</th>\n",
              "      <td>US</td>\n",
              "      <td>51085800</td>\n",
              "      <td>R1O8C9XEYHQUIH</td>\n",
              "      <td>B000050G03</td>\n",
              "      <td>75674295</td>\n",
              "      <td>Rowenta BS-500 Duo Vision Professional Scale</td>\n",
              "      <td>Personal_Care_Appliances</td>\n",
              "      <td>2</td>\n",
              "      <td>38</td>\n",
              "      <td>41</td>\n",
              "      <td>N</td>\n",
              "      <td>N</td>\n",
              "      <td>Not high quality you would expect from</td>\n",
              "      <td>I have the rowenta iron and its great so i tho...</td>\n",
              "      <td>2000-11-08</td>\n",
              "    </tr>\n",
              "    <tr>\n",
              "      <th>85980</th>\n",
              "      <td>US</td>\n",
              "      <td>48865192</td>\n",
              "      <td>R1WM4Y8G4DPHTL</td>\n",
              "      <td>B000050B62</td>\n",
              "      <td>757492866</td>\n",
              "      <td>Norelco 5841XL Deluxe Reflex Action Cord/Cordl...</td>\n",
              "      <td>Personal_Care_Appliances</td>\n",
              "      <td>5</td>\n",
              "      <td>19</td>\n",
              "      <td>21</td>\n",
              "      <td>N</td>\n",
              "      <td>N</td>\n",
              "      <td>Fabulous Shaver</td>\n",
              "      <td>Very good shaver, I have always purchased Nore...</td>\n",
              "      <td>2000-10-29</td>\n",
              "    </tr>\n",
              "  </tbody>\n",
              "</table>\n",
              "<p>85981 rows × 15 columns</p>\n",
              "</div>"
            ],
            "text/plain": [
              "      marketplace  ...  review_date\n",
              "0              US  ...   2015-08-31\n",
              "1              US  ...   2015-08-31\n",
              "2              US  ...   2015-08-31\n",
              "3              US  ...   2015-08-31\n",
              "4              US  ...   2015-08-31\n",
              "...           ...  ...          ...\n",
              "85976          US  ...   2000-11-12\n",
              "85977          US  ...   2000-11-12\n",
              "85978          US  ...   2000-11-11\n",
              "85979          US  ...   2000-11-08\n",
              "85980          US  ...   2000-10-29\n",
              "\n",
              "[85981 rows x 15 columns]"
            ]
          },
          "metadata": {
            "tags": []
          },
          "execution_count": 36
        }
      ]
    },
    {
      "cell_type": "markdown",
      "metadata": {
        "id": "xMQevI554DmL",
        "colab_type": "text"
      },
      "source": [
        "# **The data above refers to the reviews given by the customers on the purchase of personal care appliances **"
      ]
    },
    {
      "cell_type": "markdown",
      "metadata": {
        "id": "3_wX4x4XQVE9",
        "colab_type": "text"
      },
      "source": [
        "The dataset we considered is based on the amazon reviews on personal care appliances.This data contains nearly 85,000 rows and 15 columns on purchase details of customers and product details."
      ]
    },
    {
      "cell_type": "markdown",
      "metadata": {
        "id": "G_ATBqDNRYwa",
        "colab_type": "text"
      },
      "source": [
        "*Market place:The place where product is purchased\n",
        "\n",
        "*customer_id:Unique identification code of the customer\n",
        "\n",
        "*review_id:unique identification code for the review given by the customer\n",
        "\n",
        "*product_id:Barcode of the product which gives the details of the product\n",
        "\n",
        "*product_parent:unique id of the product\n",
        "\n",
        "*product_title:name of the product purchased.\n",
        "\n",
        "*product_category: Personal care appliances\n",
        "\n",
        "*star_rating: rating given by the customer for the quality of product\n",
        "\n",
        "*helpful_votes: the votes which are useful to the company\n",
        "\n",
        "*total_votes: total votes polled by customers\n",
        "\n",
        "*verified_purchase: to find whether the purchase is verifid or not\n",
        "\n",
        "*review_headline: a one line review given by customer\n",
        "\n",
        "*review_body: giving their opinion or review on the product\n",
        "\n",
        "*review_date: the date on which the purchase is reviewed"
      ]
    },
    {
      "cell_type": "markdown",
      "metadata": {
        "id": "vBPdQUBLdpGi",
        "colab_type": "text"
      },
      "source": [
        "**Some questions to be noted are:**\n",
        "1. What are the dimensions of data?\n",
        "2. How can we print only the top rows and bottom rows of the given dataset to check our dataset?\n",
        "3. Describe a method to print the columns of the dataset.\n",
        "4. What are the datatypes of given columns?\n",
        "5. Note the summary statistics of given dataset.\n",
        "6. How can we drop a column from a dataset?\n",
        "7. How to count any required feature?\n",
        "8. How can we create subsets?\n",
        "9. Is indexing possible? If yes, how?\n",
        "10. Can the dataset have boolean indexing? If yes, how?\n",
        "11.How can we know the quality of products or how the users get the overview of the product which they want to buy?"
      ]
    },
    {
      "cell_type": "markdown",
      "metadata": {
        "id": "0j7UeVC84f93",
        "colab_type": "text"
      },
      "source": [
        "# Datatype and Subcategory"
      ]
    },
    {
      "cell_type": "markdown",
      "metadata": {
        "id": "37xoWS1l2wlX",
        "colab_type": "text"
      },
      "source": [
        "#Marketplace     :categorical(ordinal)\n",
        "#product-title   :categorical(ordinal)\n",
        "#product-category:categorical(ordinal)\n",
        "#star-rating     :   numeric(continuous)\n",
        "#total-votes     :   numeric(discrete)\n",
        "#helpful-votes   : numeric(discrete)"
      ]
    },
    {
      "cell_type": "markdown",
      "metadata": {
        "id": "8X9tLX3zCDqK",
        "colab_type": "text"
      },
      "source": [
        "# Central tendency:\n",
        "# MEAN\n",
        "In this data set we can consider mean beause median is inappropriate in this data set.For star rating mean is 3.97,median is 5.00.If we consider median as central tendency then it doesn't satisfy the definition of central tendency."
      ]
    },
    {
      "cell_type": "markdown",
      "metadata": {
        "id": "r-ysYWW2iAHQ",
        "colab_type": "text"
      },
      "source": [
        "**Dimensions of dataset**"
      ]
    },
    {
      "cell_type": "code",
      "metadata": {
        "id": "s1lNX2Vi4jnR",
        "colab_type": "code",
        "outputId": "4bdcd9de-82d6-46a4-8462-b29754f3b994",
        "colab": {
          "base_uri": "https://localhost:8080/",
          "height": 34
        }
      },
      "source": [
        "## .shape gives dimentions of Data\n",
        "print(data.shape)                            # dim() in R - Dimentions of data"
      ],
      "execution_count": 0,
      "outputs": [
        {
          "output_type": "stream",
          "text": [
            "(85981, 15)\n"
          ],
          "name": "stdout"
        }
      ]
    },
    {
      "cell_type": "markdown",
      "metadata": {
        "id": "zspUrZF5tTat",
        "colab_type": "text"
      },
      "source": [
        "**DATA INSPECTION**"
      ]
    },
    {
      "cell_type": "code",
      "metadata": {
        "id": "RP46xqPLuC7G",
        "colab_type": "code",
        "outputId": "758e403a-882f-4c33-ca2a-93742d4514e7",
        "colab": {
          "base_uri": "https://localhost:8080/",
          "height": 34
        }
      },
      "source": [
        "## .size gives number of values in the dataset\n",
        "print(data.size)"
      ],
      "execution_count": 0,
      "outputs": [
        {
          "output_type": "stream",
          "text": [
            "1203734\n"
          ],
          "name": "stdout"
        }
      ]
    },
    {
      "cell_type": "code",
      "metadata": {
        "id": "6PUR1EZ_uoGq",
        "colab_type": "code",
        "outputId": "7c748ddb-8f42-4f9f-d66c-2e813cb29587",
        "colab": {
          "base_uri": "https://localhost:8080/",
          "height": 341
        }
      },
      "source": [
        "##getting bottom 3 rows using tail method\n",
        "data.tail(3)"
      ],
      "execution_count": 0,
      "outputs": [
        {
          "output_type": "execute_result",
          "data": {
            "text/html": [
              "<div>\n",
              "<style scoped>\n",
              "    .dataframe tbody tr th:only-of-type {\n",
              "        vertical-align: middle;\n",
              "    }\n",
              "\n",
              "    .dataframe tbody tr th {\n",
              "        vertical-align: top;\n",
              "    }\n",
              "\n",
              "    .dataframe thead th {\n",
              "        text-align: right;\n",
              "    }\n",
              "</style>\n",
              "<table border=\"1\" class=\"dataframe\">\n",
              "  <thead>\n",
              "    <tr style=\"text-align: right;\">\n",
              "      <th></th>\n",
              "      <th>marketplace</th>\n",
              "      <th>customer_id</th>\n",
              "      <th>product_id</th>\n",
              "      <th>product_parent</th>\n",
              "      <th>product_title</th>\n",
              "      <th>product_category</th>\n",
              "      <th>star_rating</th>\n",
              "      <th>helpful_votes</th>\n",
              "      <th>total_votes</th>\n",
              "      <th>vine</th>\n",
              "      <th>verified_purchase</th>\n",
              "      <th>review_headline</th>\n",
              "      <th>review_body</th>\n",
              "      <th>review_date</th>\n",
              "    </tr>\n",
              "  </thead>\n",
              "  <tbody>\n",
              "    <tr>\n",
              "      <th>85978</th>\n",
              "      <td>US</td>\n",
              "      <td>48581323</td>\n",
              "      <td>B000050FDN</td>\n",
              "      <td>920405412</td>\n",
              "      <td>Braun 5414 Flex Integral Rechargeable Shaver</td>\n",
              "      <td>Personal_Care_Appliances</td>\n",
              "      <td>5</td>\n",
              "      <td>31</td>\n",
              "      <td>34</td>\n",
              "      <td>N</td>\n",
              "      <td>N</td>\n",
              "      <td>The Braun Rechargeable Shaver</td>\n",
              "      <td>This shaver was amazing! Not only did I get on...</td>\n",
              "      <td>2000-11-11</td>\n",
              "    </tr>\n",
              "    <tr>\n",
              "      <th>85979</th>\n",
              "      <td>US</td>\n",
              "      <td>51085800</td>\n",
              "      <td>B000050G03</td>\n",
              "      <td>75674295</td>\n",
              "      <td>Rowenta BS-500 Duo Vision Professional Scale</td>\n",
              "      <td>Personal_Care_Appliances</td>\n",
              "      <td>2</td>\n",
              "      <td>38</td>\n",
              "      <td>41</td>\n",
              "      <td>N</td>\n",
              "      <td>N</td>\n",
              "      <td>Not high quality you would expect from</td>\n",
              "      <td>I have the rowenta iron and its great so i tho...</td>\n",
              "      <td>2000-11-08</td>\n",
              "    </tr>\n",
              "    <tr>\n",
              "      <th>85980</th>\n",
              "      <td>US</td>\n",
              "      <td>48865192</td>\n",
              "      <td>B000050B62</td>\n",
              "      <td>757492866</td>\n",
              "      <td>Norelco 5841XL Deluxe Reflex Action Cord/Cordl...</td>\n",
              "      <td>Personal_Care_Appliances</td>\n",
              "      <td>5</td>\n",
              "      <td>19</td>\n",
              "      <td>21</td>\n",
              "      <td>N</td>\n",
              "      <td>N</td>\n",
              "      <td>Fabulous Shaver</td>\n",
              "      <td>Very good shaver, I have always purchased Nore...</td>\n",
              "      <td>2000-10-29</td>\n",
              "    </tr>\n",
              "  </tbody>\n",
              "</table>\n",
              "</div>"
            ],
            "text/plain": [
              "      marketplace  ...  review_date\n",
              "85978          US  ...   2000-11-11\n",
              "85979          US  ...   2000-11-08\n",
              "85980          US  ...   2000-10-29\n",
              "\n",
              "[3 rows x 14 columns]"
            ]
          },
          "metadata": {
            "tags": []
          },
          "execution_count": 35
        }
      ]
    },
    {
      "cell_type": "code",
      "metadata": {
        "id": "azYInS6h5af2",
        "colab_type": "code",
        "outputId": "a11d980a-cb2d-4987-b1c2-00b2be10852a",
        "colab": {
          "base_uri": "https://localhost:8080/",
          "height": 274
        }
      },
      "source": [
        "## Getting top 3 rows using head method\n",
        "data.head(3)"
      ],
      "execution_count": 0,
      "outputs": [
        {
          "output_type": "execute_result",
          "data": {
            "text/html": [
              "<div>\n",
              "<style scoped>\n",
              "    .dataframe tbody tr th:only-of-type {\n",
              "        vertical-align: middle;\n",
              "    }\n",
              "\n",
              "    .dataframe tbody tr th {\n",
              "        vertical-align: top;\n",
              "    }\n",
              "\n",
              "    .dataframe thead th {\n",
              "        text-align: right;\n",
              "    }\n",
              "</style>\n",
              "<table border=\"1\" class=\"dataframe\">\n",
              "  <thead>\n",
              "    <tr style=\"text-align: right;\">\n",
              "      <th></th>\n",
              "      <th>marketplace</th>\n",
              "      <th>customer_id</th>\n",
              "      <th>review_id</th>\n",
              "      <th>product_id</th>\n",
              "      <th>product_parent</th>\n",
              "      <th>product_title</th>\n",
              "      <th>product_category</th>\n",
              "      <th>star_rating</th>\n",
              "      <th>helpful_votes</th>\n",
              "      <th>total_votes</th>\n",
              "      <th>vine</th>\n",
              "      <th>verified_purchase</th>\n",
              "      <th>review_headline</th>\n",
              "      <th>review_body</th>\n",
              "      <th>review_date</th>\n",
              "    </tr>\n",
              "  </thead>\n",
              "  <tbody>\n",
              "    <tr>\n",
              "      <th>0</th>\n",
              "      <td>US</td>\n",
              "      <td>32114233</td>\n",
              "      <td>R1QX6706ZWJ1P5</td>\n",
              "      <td>B00OYRW4UE</td>\n",
              "      <td>223980852</td>\n",
              "      <td>Elite Sportz Exercise Sliders are Double Sided...</td>\n",
              "      <td>Personal_Care_Appliances</td>\n",
              "      <td>5</td>\n",
              "      <td>0</td>\n",
              "      <td>0</td>\n",
              "      <td>N</td>\n",
              "      <td>Y</td>\n",
              "      <td>Good quality. Shipped</td>\n",
              "      <td>Exactly as described. Good quality. Shipped fast</td>\n",
              "      <td>2015-08-31</td>\n",
              "    </tr>\n",
              "    <tr>\n",
              "      <th>1</th>\n",
              "      <td>US</td>\n",
              "      <td>18125776</td>\n",
              "      <td>R3QWMLJHIW6P37</td>\n",
              "      <td>B0000537JQ</td>\n",
              "      <td>819771537</td>\n",
              "      <td>Ezy Dose Weekly</td>\n",
              "      <td>Personal_Care_Appliances</td>\n",
              "      <td>5</td>\n",
              "      <td>0</td>\n",
              "      <td>0</td>\n",
              "      <td>N</td>\n",
              "      <td>Y</td>\n",
              "      <td>Five Stars</td>\n",
              "      <td>It is great</td>\n",
              "      <td>2015-08-31</td>\n",
              "    </tr>\n",
              "    <tr>\n",
              "      <th>2</th>\n",
              "      <td>US</td>\n",
              "      <td>19917519</td>\n",
              "      <td>R14Z1VR1N0Z9G6</td>\n",
              "      <td>B00HXXO332</td>\n",
              "      <td>849307176</td>\n",
              "      <td>Pulse Oximeter, Blood Oxygen Monitor</td>\n",
              "      <td>Personal_Care_Appliances</td>\n",
              "      <td>5</td>\n",
              "      <td>1</td>\n",
              "      <td>1</td>\n",
              "      <td>N</td>\n",
              "      <td>Y</td>\n",
              "      <td>It's really nice it works great</td>\n",
              "      <td>It's really nice it works great. You have the ...</td>\n",
              "      <td>2015-08-31</td>\n",
              "    </tr>\n",
              "  </tbody>\n",
              "</table>\n",
              "</div>"
            ],
            "text/plain": [
              "  marketplace  ...  review_date\n",
              "0          US  ...   2015-08-31\n",
              "1          US  ...   2015-08-31\n",
              "2          US  ...   2015-08-31\n",
              "\n",
              "[3 rows x 15 columns]"
            ]
          },
          "metadata": {
            "tags": []
          },
          "execution_count": 3
        }
      ]
    },
    {
      "cell_type": "markdown",
      "metadata": {
        "id": "M1ovvBwWiJLv",
        "colab_type": "text"
      },
      "source": [
        "**Columns of data**"
      ]
    },
    {
      "cell_type": "code",
      "metadata": {
        "id": "alC7_adJ5hEn",
        "colab_type": "code",
        "outputId": "d81623d1-fcf8-455b-e9d4-fe059c29fe65",
        "colab": {
          "base_uri": "https://localhost:8080/",
          "height": 105
        }
      },
      "source": [
        "## .columns gives column names\n",
        "print(data.columns)                          # colnames() in R - Column Namesprint(list(df.index)[:10])"
      ],
      "execution_count": 0,
      "outputs": [
        {
          "output_type": "stream",
          "text": [
            "Index(['marketplace', 'customer_id', 'review_id', 'product_id',\n",
            "       'product_parent', 'product_title', 'product_category', 'star_rating',\n",
            "       'helpful_votes', 'total_votes', 'vine', 'verified_purchase',\n",
            "       'review_headline', 'review_body', 'review_date'],\n",
            "      dtype='object')\n"
          ],
          "name": "stdout"
        }
      ]
    },
    {
      "cell_type": "markdown",
      "metadata": {
        "id": "gE0aPMp9iVvf",
        "colab_type": "text"
      },
      "source": [
        "**Datatype**"
      ]
    },
    {
      "cell_type": "code",
      "metadata": {
        "id": "x3kx6sZN5wA6",
        "colab_type": "code",
        "outputId": "faafa259-00a0-4fb7-e8f3-d4c8c6432b24",
        "colab": {
          "base_uri": "https://localhost:8080/",
          "height": 301
        }
      },
      "source": [
        "## .dtypes gives data types for each column\n",
        "print(data.dtypes)                           # str() in R - Data types"
      ],
      "execution_count": 0,
      "outputs": [
        {
          "output_type": "stream",
          "text": [
            "marketplace                  object\n",
            "customer_id                   int64\n",
            "review_id                    object\n",
            "product_id                   object\n",
            "product_parent                int64\n",
            "product_title                object\n",
            "product_category             object\n",
            "star_rating                   int64\n",
            "helpful_votes                 int64\n",
            "total_votes                   int64\n",
            "vine                         object\n",
            "verified_purchase            object\n",
            "review_headline              object\n",
            "review_body                  object\n",
            "review_date          datetime64[ns]\n",
            "dtype: object\n"
          ],
          "name": "stdout"
        }
      ]
    },
    {
      "cell_type": "markdown",
      "metadata": {
        "id": "qMPnwBgaiq4F",
        "colab_type": "text"
      },
      "source": [
        "**Summary Statistics** "
      ]
    },
    {
      "cell_type": "code",
      "metadata": {
        "id": "G1DbB9wF58DG",
        "colab_type": "code",
        "outputId": "dc0528fd-451c-42f2-c319-493ee59e6173",
        "colab": {
          "base_uri": "https://localhost:8080/",
          "height": 287
        }
      },
      "source": [
        "data.describe()"
      ],
      "execution_count": 0,
      "outputs": [
        {
          "output_type": "execute_result",
          "data": {
            "text/html": [
              "<div>\n",
              "<style scoped>\n",
              "    .dataframe tbody tr th:only-of-type {\n",
              "        vertical-align: middle;\n",
              "    }\n",
              "\n",
              "    .dataframe tbody tr th {\n",
              "        vertical-align: top;\n",
              "    }\n",
              "\n",
              "    .dataframe thead th {\n",
              "        text-align: right;\n",
              "    }\n",
              "</style>\n",
              "<table border=\"1\" class=\"dataframe\">\n",
              "  <thead>\n",
              "    <tr style=\"text-align: right;\">\n",
              "      <th></th>\n",
              "      <th>customer_id</th>\n",
              "      <th>product_parent</th>\n",
              "      <th>star_rating</th>\n",
              "      <th>helpful_votes</th>\n",
              "      <th>total_votes</th>\n",
              "    </tr>\n",
              "  </thead>\n",
              "  <tbody>\n",
              "    <tr>\n",
              "      <th>count</th>\n",
              "      <td>8.598100e+04</td>\n",
              "      <td>8.598100e+04</td>\n",
              "      <td>85981.000000</td>\n",
              "      <td>85981.000000</td>\n",
              "      <td>85981.000000</td>\n",
              "    </tr>\n",
              "    <tr>\n",
              "      <th>mean</th>\n",
              "      <td>2.943223e+07</td>\n",
              "      <td>5.138291e+08</td>\n",
              "      <td>3.977402</td>\n",
              "      <td>3.349484</td>\n",
              "      <td>4.058990</td>\n",
              "    </tr>\n",
              "    <tr>\n",
              "      <th>std</th>\n",
              "      <td>1.525423e+07</td>\n",
              "      <td>2.919879e+08</td>\n",
              "      <td>1.433130</td>\n",
              "      <td>19.483167</td>\n",
              "      <td>20.825996</td>\n",
              "    </tr>\n",
              "    <tr>\n",
              "      <th>min</th>\n",
              "      <td>1.047000e+04</td>\n",
              "      <td>3.573000e+03</td>\n",
              "      <td>1.000000</td>\n",
              "      <td>0.000000</td>\n",
              "      <td>0.000000</td>\n",
              "    </tr>\n",
              "    <tr>\n",
              "      <th>25%</th>\n",
              "      <td>1.547558e+07</td>\n",
              "      <td>2.630825e+08</td>\n",
              "      <td>3.000000</td>\n",
              "      <td>0.000000</td>\n",
              "      <td>0.000000</td>\n",
              "    </tr>\n",
              "    <tr>\n",
              "      <th>50%</th>\n",
              "      <td>2.903156e+07</td>\n",
              "      <td>4.981086e+08</td>\n",
              "      <td>5.000000</td>\n",
              "      <td>0.000000</td>\n",
              "      <td>1.000000</td>\n",
              "    </tr>\n",
              "    <tr>\n",
              "      <th>75%</th>\n",
              "      <td>4.372414e+07</td>\n",
              "      <td>7.900604e+08</td>\n",
              "      <td>5.000000</td>\n",
              "      <td>2.000000</td>\n",
              "      <td>3.000000</td>\n",
              "    </tr>\n",
              "    <tr>\n",
              "      <th>max</th>\n",
              "      <td>5.309657e+07</td>\n",
              "      <td>9.999599e+08</td>\n",
              "      <td>5.000000</td>\n",
              "      <td>2785.000000</td>\n",
              "      <td>2876.000000</td>\n",
              "    </tr>\n",
              "  </tbody>\n",
              "</table>\n",
              "</div>"
            ],
            "text/plain": [
              "        customer_id  product_parent   star_rating  helpful_votes   total_votes\n",
              "count  8.598100e+04    8.598100e+04  85981.000000   85981.000000  85981.000000\n",
              "mean   2.943223e+07    5.138291e+08      3.977402       3.349484      4.058990\n",
              "std    1.525423e+07    2.919879e+08      1.433130      19.483167     20.825996\n",
              "min    1.047000e+04    3.573000e+03      1.000000       0.000000      0.000000\n",
              "25%    1.547558e+07    2.630825e+08      3.000000       0.000000      0.000000\n",
              "50%    2.903156e+07    4.981086e+08      5.000000       0.000000      1.000000\n",
              "75%    4.372414e+07    7.900604e+08      5.000000       2.000000      3.000000\n",
              "max    5.309657e+07    9.999599e+08      5.000000    2785.000000   2876.000000"
            ]
          },
          "metadata": {
            "tags": []
          },
          "execution_count": 6
        }
      ]
    },
    {
      "cell_type": "markdown",
      "metadata": {
        "id": "-mXfx3s5ix0h",
        "colab_type": "text"
      },
      "source": [
        "**Drop columns**"
      ]
    },
    {
      "cell_type": "code",
      "metadata": {
        "id": "MzHpp1C36Rs-",
        "colab_type": "code",
        "outputId": "6ed6e3f6-f23f-43c0-ed65-27ba580641ca",
        "colab": {
          "base_uri": "https://localhost:8080/",
          "height": 274
        }
      },
      "source": [
        "# Dropping Column\n",
        "data.drop(['review_id'], axis=1, inplace=True)    # Axis = 1 for columns\n",
        "\n",
        "data.head(3)"
      ],
      "execution_count": 0,
      "outputs": [
        {
          "output_type": "execute_result",
          "data": {
            "text/html": [
              "<div>\n",
              "<style scoped>\n",
              "    .dataframe tbody tr th:only-of-type {\n",
              "        vertical-align: middle;\n",
              "    }\n",
              "\n",
              "    .dataframe tbody tr th {\n",
              "        vertical-align: top;\n",
              "    }\n",
              "\n",
              "    .dataframe thead th {\n",
              "        text-align: right;\n",
              "    }\n",
              "</style>\n",
              "<table border=\"1\" class=\"dataframe\">\n",
              "  <thead>\n",
              "    <tr style=\"text-align: right;\">\n",
              "      <th></th>\n",
              "      <th>marketplace</th>\n",
              "      <th>customer_id</th>\n",
              "      <th>product_id</th>\n",
              "      <th>product_parent</th>\n",
              "      <th>product_title</th>\n",
              "      <th>product_category</th>\n",
              "      <th>star_rating</th>\n",
              "      <th>helpful_votes</th>\n",
              "      <th>total_votes</th>\n",
              "      <th>vine</th>\n",
              "      <th>verified_purchase</th>\n",
              "      <th>review_headline</th>\n",
              "      <th>review_body</th>\n",
              "      <th>review_date</th>\n",
              "    </tr>\n",
              "  </thead>\n",
              "  <tbody>\n",
              "    <tr>\n",
              "      <th>0</th>\n",
              "      <td>US</td>\n",
              "      <td>32114233</td>\n",
              "      <td>B00OYRW4UE</td>\n",
              "      <td>223980852</td>\n",
              "      <td>Elite Sportz Exercise Sliders are Double Sided...</td>\n",
              "      <td>Personal_Care_Appliances</td>\n",
              "      <td>5</td>\n",
              "      <td>0</td>\n",
              "      <td>0</td>\n",
              "      <td>N</td>\n",
              "      <td>Y</td>\n",
              "      <td>Good quality. Shipped</td>\n",
              "      <td>Exactly as described. Good quality. Shipped fast</td>\n",
              "      <td>2015-08-31</td>\n",
              "    </tr>\n",
              "    <tr>\n",
              "      <th>1</th>\n",
              "      <td>US</td>\n",
              "      <td>18125776</td>\n",
              "      <td>B0000537JQ</td>\n",
              "      <td>819771537</td>\n",
              "      <td>Ezy Dose Weekly</td>\n",
              "      <td>Personal_Care_Appliances</td>\n",
              "      <td>5</td>\n",
              "      <td>0</td>\n",
              "      <td>0</td>\n",
              "      <td>N</td>\n",
              "      <td>Y</td>\n",
              "      <td>Five Stars</td>\n",
              "      <td>It is great</td>\n",
              "      <td>2015-08-31</td>\n",
              "    </tr>\n",
              "    <tr>\n",
              "      <th>2</th>\n",
              "      <td>US</td>\n",
              "      <td>19917519</td>\n",
              "      <td>B00HXXO332</td>\n",
              "      <td>849307176</td>\n",
              "      <td>Pulse Oximeter, Blood Oxygen Monitor</td>\n",
              "      <td>Personal_Care_Appliances</td>\n",
              "      <td>5</td>\n",
              "      <td>1</td>\n",
              "      <td>1</td>\n",
              "      <td>N</td>\n",
              "      <td>Y</td>\n",
              "      <td>It's really nice it works great</td>\n",
              "      <td>It's really nice it works great. You have the ...</td>\n",
              "      <td>2015-08-31</td>\n",
              "    </tr>\n",
              "  </tbody>\n",
              "</table>\n",
              "</div>"
            ],
            "text/plain": [
              "  marketplace  ...  review_date\n",
              "0          US  ...   2015-08-31\n",
              "1          US  ...   2015-08-31\n",
              "2          US  ...   2015-08-31\n",
              "\n",
              "[3 rows x 14 columns]"
            ]
          },
          "metadata": {
            "tags": []
          },
          "execution_count": 7
        }
      ]
    },
    {
      "cell_type": "markdown",
      "metadata": {
        "id": "NNl9deJei30t",
        "colab_type": "text"
      },
      "source": [
        "**Count of values**"
      ]
    },
    {
      "cell_type": "code",
      "metadata": {
        "id": "Slfkj66r658I",
        "colab_type": "code",
        "outputId": "fe4824b1-318a-4956-b774-76924853a102",
        "colab": {
          "base_uri": "https://localhost:8080/",
          "height": 123
        }
      },
      "source": [
        "data['star_rating'].value_counts()       # table() in R - Frequency count"
      ],
      "execution_count": 0,
      "outputs": [
        {
          "output_type": "execute_result",
          "data": {
            "text/plain": [
              "5    48897\n",
              "4    13657\n",
              "1    11036\n",
              "3     7050\n",
              "2     5341\n",
              "Name: star_rating, dtype: int64"
            ]
          },
          "metadata": {
            "tags": []
          },
          "execution_count": 8
        }
      ]
    },
    {
      "cell_type": "markdown",
      "metadata": {
        "id": "loDIH5h3jJth",
        "colab_type": "text"
      },
      "source": [
        "**Subsets**"
      ]
    },
    {
      "cell_type": "code",
      "metadata": {
        "id": "2GrVpAHD7USv",
        "colab_type": "code",
        "outputId": "b5d94b3c-e18d-4b64-a6c1-dd1442ed9a7a",
        "colab": {
          "base_uri": "https://localhost:8080/",
          "height": 137
        }
      },
      "source": [
        "## Label based indexing make more sense for column subsetting\n",
        "#Select only product_title and star_rating columns\n",
        "subset1 = data.loc[:,['product_title','star_rating']]\n",
        "\n",
        "subset1.head(3)"
      ],
      "execution_count": 0,
      "outputs": [
        {
          "output_type": "execute_result",
          "data": {
            "text/html": [
              "<div>\n",
              "<style scoped>\n",
              "    .dataframe tbody tr th:only-of-type {\n",
              "        vertical-align: middle;\n",
              "    }\n",
              "\n",
              "    .dataframe tbody tr th {\n",
              "        vertical-align: top;\n",
              "    }\n",
              "\n",
              "    .dataframe thead th {\n",
              "        text-align: right;\n",
              "    }\n",
              "</style>\n",
              "<table border=\"1\" class=\"dataframe\">\n",
              "  <thead>\n",
              "    <tr style=\"text-align: right;\">\n",
              "      <th></th>\n",
              "      <th>product_title</th>\n",
              "      <th>star_rating</th>\n",
              "    </tr>\n",
              "  </thead>\n",
              "  <tbody>\n",
              "    <tr>\n",
              "      <th>0</th>\n",
              "      <td>Elite Sportz Exercise Sliders are Double Sided...</td>\n",
              "      <td>5</td>\n",
              "    </tr>\n",
              "    <tr>\n",
              "      <th>1</th>\n",
              "      <td>Ezy Dose Weekly</td>\n",
              "      <td>5</td>\n",
              "    </tr>\n",
              "    <tr>\n",
              "      <th>2</th>\n",
              "      <td>Pulse Oximeter, Blood Oxygen Monitor</td>\n",
              "      <td>5</td>\n",
              "    </tr>\n",
              "  </tbody>\n",
              "</table>\n",
              "</div>"
            ],
            "text/plain": [
              "                                       product_title  star_rating\n",
              "0  Elite Sportz Exercise Sliders are Double Sided...            5\n",
              "1                                    Ezy Dose Weekly            5\n",
              "2               Pulse Oximeter, Blood Oxygen Monitor            5"
            ]
          },
          "metadata": {
            "tags": []
          },
          "execution_count": 9
        }
      ]
    },
    {
      "cell_type": "markdown",
      "metadata": {
        "id": "A5_r2x6jjPPa",
        "colab_type": "text"
      },
      "source": [
        "**Indexing**"
      ]
    },
    {
      "cell_type": "code",
      "metadata": {
        "id": "sYXDQaEa78pR",
        "colab_type": "code",
        "outputId": "4911a5fd-0d1b-4779-a2c8-0e628f0e0c1b",
        "colab": {
          "base_uri": "https://localhost:8080/",
          "height": 137
        }
      },
      "source": [
        "## Numeric based indexing usually makes sense for row subsetting \n",
        "data.iloc[50:53,1:5]"
      ],
      "execution_count": 0,
      "outputs": [
        {
          "output_type": "execute_result",
          "data": {
            "text/html": [
              "<div>\n",
              "<style scoped>\n",
              "    .dataframe tbody tr th:only-of-type {\n",
              "        vertical-align: middle;\n",
              "    }\n",
              "\n",
              "    .dataframe tbody tr th {\n",
              "        vertical-align: top;\n",
              "    }\n",
              "\n",
              "    .dataframe thead th {\n",
              "        text-align: right;\n",
              "    }\n",
              "</style>\n",
              "<table border=\"1\" class=\"dataframe\">\n",
              "  <thead>\n",
              "    <tr style=\"text-align: right;\">\n",
              "      <th></th>\n",
              "      <th>customer_id</th>\n",
              "      <th>product_id</th>\n",
              "      <th>product_parent</th>\n",
              "      <th>product_title</th>\n",
              "    </tr>\n",
              "  </thead>\n",
              "  <tbody>\n",
              "    <tr>\n",
              "      <th>50</th>\n",
              "      <td>26471121</td>\n",
              "      <td>B00HES9CMS</td>\n",
              "      <td>318730927</td>\n",
              "      <td>Viva Naturals #1 Best Selling Certified Organi...</td>\n",
              "    </tr>\n",
              "    <tr>\n",
              "      <th>51</th>\n",
              "      <td>28335664</td>\n",
              "      <td>B0006VJ6TO</td>\n",
              "      <td>412568457</td>\n",
              "      <td>Body Back Company’s Body Back Buddy Trigger Po...</td>\n",
              "    </tr>\n",
              "    <tr>\n",
              "      <th>52</th>\n",
              "      <td>23728678</td>\n",
              "      <td>B00266WFFO</td>\n",
              "      <td>810498674</td>\n",
              "      <td>Golden Technologies Alante' HD Power Chair in ...</td>\n",
              "    </tr>\n",
              "  </tbody>\n",
              "</table>\n",
              "</div>"
            ],
            "text/plain": [
              "    customer_id  ...                                      product_title\n",
              "50     26471121  ...  Viva Naturals #1 Best Selling Certified Organi...\n",
              "51     28335664  ...  Body Back Company’s Body Back Buddy Trigger Po...\n",
              "52     23728678  ...  Golden Technologies Alante' HD Power Chair in ...\n",
              "\n",
              "[3 rows x 4 columns]"
            ]
          },
          "metadata": {
            "tags": []
          },
          "execution_count": 10
        }
      ]
    },
    {
      "cell_type": "code",
      "metadata": {
        "id": "_2rV-Vxg86BC",
        "colab_type": "code",
        "outputId": "414e9612-48f4-4295-cfbe-ae3d18a3425d",
        "colab": {
          "base_uri": "https://localhost:8080/",
          "height": 52
        }
      },
      "source": [
        "data['product_category'].value_counts()"
      ],
      "execution_count": 0,
      "outputs": [
        {
          "output_type": "execute_result",
          "data": {
            "text/plain": [
              "Personal_Care_Appliances    85981\n",
              "Name: product_category, dtype: int64"
            ]
          },
          "metadata": {
            "tags": []
          },
          "execution_count": 17
        }
      ]
    },
    {
      "cell_type": "markdown",
      "metadata": {
        "id": "YbQMbS6Ueu8N",
        "colab_type": "text"
      },
      "source": [
        "**BOX PLOT**"
      ]
    },
    {
      "cell_type": "code",
      "metadata": {
        "id": "iEBLiCGfGsoT",
        "colab_type": "code",
        "outputId": "24896be9-2edf-476b-c8f2-59bdcdd59b7c",
        "colab": {
          "base_uri": "https://localhost:8080/",
          "height": 283
        }
      },
      "source": [
        "data.plot(x=\"total_votes\",y=\"helpful_votes\",kind=\"box\")"
      ],
      "execution_count": 0,
      "outputs": [
        {
          "output_type": "execute_result",
          "data": {
            "text/plain": [
              "<matplotlib.axes._subplots.AxesSubplot at 0x7ff314ad8a58>"
            ]
          },
          "metadata": {
            "tags": []
          },
          "execution_count": 14
        },
        {
          "output_type": "display_data",
          "data": {
            "image/png": "[encoded data removed]",
            "text/plain": [
              "<Figure size 432x288 with 1 Axes>"
            ]
          },
          "metadata": {
            "tags": []
          }
        }
      ]
    },
    {
      "cell_type": "markdown",
      "metadata": {
        "id": "0KBRWDzVe5wG",
        "colab_type": "text"
      },
      "source": [
        "**SCATTER PLOT**\n"
      ]
    },
    {
      "cell_type": "markdown",
      "metadata": {
        "id": "zCYSyTB2r24E",
        "colab_type": "text"
      },
      "source": [
        "1.This scatter plot is on total_votes polled to the helpful_votes polled by buyers\n",
        "2."
      ]
    },
    {
      "cell_type": "code",
      "metadata": {
        "id": "8p7kxpQ5fHh_",
        "colab_type": "code",
        "outputId": "c3f2d2fe-678c-44e9-a00a-11c692beeb75",
        "colab": {
          "base_uri": "https://localhost:8080/",
          "height": 297
        }
      },
      "source": [
        "data.plot(x=\"total_votes\",y=\"helpful_votes\",kind=\"scatter\")"
      ],
      "execution_count": 0,
      "outputs": [
        {
          "output_type": "execute_result",
          "data": {
            "text/plain": [
              "<matplotlib.axes._subplots.AxesSubplot at 0x7ff314ade6a0>"
            ]
          },
          "metadata": {
            "tags": []
          },
          "execution_count": 16
        },
        {
          "output_type": "display_data",
          "data": {
            "image/png": "[encoded data removed]",
            "text/plain": [
              "<Figure size 432x288 with 1 Axes>"
            ]
          },
          "metadata": {
            "tags": []
          }
        }
      ]
    },
    {
      "cell_type": "markdown",
      "metadata": {
        "id": "3oR1ch2xm7X_",
        "colab_type": "text"
      },
      "source": [
        "**Histogram**"
      ]
    },
    {
      "cell_type": "markdown",
      "metadata": {
        "id": "IWuDsJwBpEZu",
        "colab_type": "text"
      },
      "source": [
        "1.This histogram is on helpfulvotes and starrating\n",
        "2.It helps the buyers to see the reviews on the purchased products and starrating easily and can easily see whether the star_rated product is has positive review or negative review."
      ]
    },
    {
      "cell_type": "markdown",
      "metadata": {
        "id": "wkO9NiEGpwCw",
        "colab_type": "text"
      },
      "source": [
        ""
      ]
    },
    {
      "cell_type": "code",
      "metadata": {
        "id": "C4IBhobonH-I",
        "colab_type": "code",
        "outputId": "892b8542-805d-447b-abd8-c434f96c8348",
        "colab": {
          "base_uri": "https://localhost:8080/",
          "height": 282
        }
      },
      "source": [
        "data.plot(x=\"helpful_votes\",y=\"star_rating\",kind=\"hist\")"
      ],
      "execution_count": 0,
      "outputs": [
        {
          "output_type": "execute_result",
          "data": {
            "text/plain": [
              "<matplotlib.axes._subplots.AxesSubplot at 0x7ff31486c0f0>"
            ]
          },
          "metadata": {
            "tags": []
          },
          "execution_count": 31
        },
        {
          "output_type": "display_data",
          "data": {
            "image/png": "[encoded data removed]",
            "text/plain": [
              "<Figure size 432x288 with 1 Axes>"
            ]
          },
          "metadata": {
            "tags": []
          }
        }
      ]
    },
    {
      "cell_type": "markdown",
      "metadata": {
        "id": "qcuQZ22rJgRl",
        "colab_type": "text"
      },
      "source": [
        "## **Boolean indexing (to subset based on value in each cell of the column )**\n",
        "**Here we subsetting the data where the cell value in \"star_rating\" column is equal to \"product_id\"**"
      ]
    },
    {
      "cell_type": "code",
      "metadata": {
        "id": "e6_mSg-bJ6J_",
        "colab_type": "code",
        "outputId": "07e7c544-d93a-42a9-c546-cd6f69d33ea3",
        "colab": {
          "base_uri": "https://localhost:8080/",
          "height": 467
        }
      },
      "source": [
        "subset3 = data.loc[data['star_rating']==5,:]\n",
        "subset3.head(5)"
      ],
      "execution_count": 0,
      "outputs": [
        {
          "output_type": "execute_result",
          "data": {
            "text/html": [
              "<div>\n",
              "<style scoped>\n",
              "    .dataframe tbody tr th:only-of-type {\n",
              "        vertical-align: middle;\n",
              "    }\n",
              "\n",
              "    .dataframe tbody tr th {\n",
              "        vertical-align: top;\n",
              "    }\n",
              "\n",
              "    .dataframe thead th {\n",
              "        text-align: right;\n",
              "    }\n",
              "</style>\n",
              "<table border=\"1\" class=\"dataframe\">\n",
              "  <thead>\n",
              "    <tr style=\"text-align: right;\">\n",
              "      <th></th>\n",
              "      <th>marketplace</th>\n",
              "      <th>customer_id</th>\n",
              "      <th>product_id</th>\n",
              "      <th>product_parent</th>\n",
              "      <th>product_title</th>\n",
              "      <th>product_category</th>\n",
              "      <th>star_rating</th>\n",
              "      <th>helpful_votes</th>\n",
              "      <th>total_votes</th>\n",
              "      <th>vine</th>\n",
              "      <th>verified_purchase</th>\n",
              "      <th>review_headline</th>\n",
              "      <th>review_body</th>\n",
              "      <th>review_date</th>\n",
              "    </tr>\n",
              "  </thead>\n",
              "  <tbody>\n",
              "    <tr>\n",
              "      <th>0</th>\n",
              "      <td>US</td>\n",
              "      <td>32114233</td>\n",
              "      <td>B00OYRW4UE</td>\n",
              "      <td>223980852</td>\n",
              "      <td>Elite Sportz Exercise Sliders are Double Sided...</td>\n",
              "      <td>Personal_Care_Appliances</td>\n",
              "      <td>5</td>\n",
              "      <td>0</td>\n",
              "      <td>0</td>\n",
              "      <td>N</td>\n",
              "      <td>Y</td>\n",
              "      <td>Good quality. Shipped</td>\n",
              "      <td>Exactly as described. Good quality. Shipped fast</td>\n",
              "      <td>2015-08-31</td>\n",
              "    </tr>\n",
              "    <tr>\n",
              "      <th>1</th>\n",
              "      <td>US</td>\n",
              "      <td>18125776</td>\n",
              "      <td>B0000537JQ</td>\n",
              "      <td>819771537</td>\n",
              "      <td>Ezy Dose Weekly</td>\n",
              "      <td>Personal_Care_Appliances</td>\n",
              "      <td>5</td>\n",
              "      <td>0</td>\n",
              "      <td>0</td>\n",
              "      <td>N</td>\n",
              "      <td>Y</td>\n",
              "      <td>Five Stars</td>\n",
              "      <td>It is great</td>\n",
              "      <td>2015-08-31</td>\n",
              "    </tr>\n",
              "    <tr>\n",
              "      <th>2</th>\n",
              "      <td>US</td>\n",
              "      <td>19917519</td>\n",
              "      <td>B00HXXO332</td>\n",
              "      <td>849307176</td>\n",
              "      <td>Pulse Oximeter, Blood Oxygen Monitor</td>\n",
              "      <td>Personal_Care_Appliances</td>\n",
              "      <td>5</td>\n",
              "      <td>1</td>\n",
              "      <td>1</td>\n",
              "      <td>N</td>\n",
              "      <td>Y</td>\n",
              "      <td>It's really nice it works great</td>\n",
              "      <td>It's really nice it works great. You have the ...</td>\n",
              "      <td>2015-08-31</td>\n",
              "    </tr>\n",
              "    <tr>\n",
              "      <th>5</th>\n",
              "      <td>US</td>\n",
              "      <td>2592955</td>\n",
              "      <td>B00HES9CMS</td>\n",
              "      <td>318730927</td>\n",
              "      <td>Viva Naturals #1 Best Selling Certified Organi...</td>\n",
              "      <td>Personal_Care_Appliances</td>\n",
              "      <td>5</td>\n",
              "      <td>0</td>\n",
              "      <td>0</td>\n",
              "      <td>N</td>\n",
              "      <td>Y</td>\n",
              "      <td>not bad at all</td>\n",
              "      <td>I added to my oatmeal and protein shakes, not ...</td>\n",
              "      <td>2015-08-31</td>\n",
              "    </tr>\n",
              "    <tr>\n",
              "      <th>6</th>\n",
              "      <td>US</td>\n",
              "      <td>15168265</td>\n",
              "      <td>B0016BFR4G</td>\n",
              "      <td>887476137</td>\n",
              "      <td>Uncle Lee's Organic Green Tea -- 100 Tea Bags ...</td>\n",
              "      <td>Personal_Care_Appliances</td>\n",
              "      <td>5</td>\n",
              "      <td>0</td>\n",
              "      <td>0</td>\n",
              "      <td>N</td>\n",
              "      <td>Y</td>\n",
              "      <td>Mild, enjoyable taste.</td>\n",
              "      <td>Husband drinks this green tea every morning an...</td>\n",
              "      <td>2015-08-31</td>\n",
              "    </tr>\n",
              "  </tbody>\n",
              "</table>\n",
              "</div>"
            ],
            "text/plain": [
              "  marketplace  ...  review_date\n",
              "0          US  ...   2015-08-31\n",
              "1          US  ...   2015-08-31\n",
              "2          US  ...   2015-08-31\n",
              "5          US  ...   2015-08-31\n",
              "6          US  ...   2015-08-31\n",
              "\n",
              "[5 rows x 14 columns]"
            ]
          },
          "metadata": {
            "tags": []
          },
          "execution_count": 29
        }
      ]
    },
    {
      "cell_type": "markdown",
      "metadata": {
        "id": "V2shzxibLE6H",
        "colab_type": "text"
      },
      "source": [
        "Piping of functions (for multiple criteria subsetting)\n",
        "Basically output of first function is taken as input for the next function\n",
        "\n",
        "Note - We are using a relational operator inside the first function to get a boolean vector (equal to the number of rows we have). Where the value will be True only if the \"star_rating\" column is \"helpful_votes\"\n"
      ]
    },
    {
      "cell_type": "code",
      "metadata": {
        "id": "TX0tHnd3Jw8A",
        "colab_type": "code",
        "outputId": "82e4135f-7bc2-4dbe-c577-7a504d23551b",
        "colab": {
          "base_uri": "https://localhost:8080/",
          "height": 324
        }
      },
      "source": [
        "subset4 = data.loc[data['star_rating']==5,:].loc[data['helpful_votes']==1,:]\n",
        "subset4.head(3)"
      ],
      "execution_count": 0,
      "outputs": [
        {
          "output_type": "execute_result",
          "data": {
            "text/html": [
              "<div>\n",
              "<style scoped>\n",
              "    .dataframe tbody tr th:only-of-type {\n",
              "        vertical-align: middle;\n",
              "    }\n",
              "\n",
              "    .dataframe tbody tr th {\n",
              "        vertical-align: top;\n",
              "    }\n",
              "\n",
              "    .dataframe thead th {\n",
              "        text-align: right;\n",
              "    }\n",
              "</style>\n",
              "<table border=\"1\" class=\"dataframe\">\n",
              "  <thead>\n",
              "    <tr style=\"text-align: right;\">\n",
              "      <th></th>\n",
              "      <th>marketplace</th>\n",
              "      <th>customer_id</th>\n",
              "      <th>product_id</th>\n",
              "      <th>product_parent</th>\n",
              "      <th>product_title</th>\n",
              "      <th>product_category</th>\n",
              "      <th>star_rating</th>\n",
              "      <th>helpful_votes</th>\n",
              "      <th>total_votes</th>\n",
              "      <th>vine</th>\n",
              "      <th>verified_purchase</th>\n",
              "      <th>review_headline</th>\n",
              "      <th>review_body</th>\n",
              "      <th>review_date</th>\n",
              "    </tr>\n",
              "  </thead>\n",
              "  <tbody>\n",
              "    <tr>\n",
              "      <th>2</th>\n",
              "      <td>US</td>\n",
              "      <td>19917519</td>\n",
              "      <td>B00HXXO332</td>\n",
              "      <td>849307176</td>\n",
              "      <td>Pulse Oximeter, Blood Oxygen Monitor</td>\n",
              "      <td>Personal_Care_Appliances</td>\n",
              "      <td>5</td>\n",
              "      <td>1</td>\n",
              "      <td>1</td>\n",
              "      <td>N</td>\n",
              "      <td>Y</td>\n",
              "      <td>It's really nice it works great</td>\n",
              "      <td>It's really nice it works great. You have the ...</td>\n",
              "      <td>2015-08-31</td>\n",
              "    </tr>\n",
              "    <tr>\n",
              "      <th>21</th>\n",
              "      <td>US</td>\n",
              "      <td>41933766</td>\n",
              "      <td>B0006Z0NY2</td>\n",
              "      <td>636051703</td>\n",
              "      <td>Gopher Reacher</td>\n",
              "      <td>Personal_Care_Appliances</td>\n",
              "      <td>5</td>\n",
              "      <td>1</td>\n",
              "      <td>1</td>\n",
              "      <td>N</td>\n",
              "      <td>Y</td>\n",
              "      <td>Works great!</td>\n",
              "      <td>It is exactly what I was looking for -- the or...</td>\n",
              "      <td>2015-08-31</td>\n",
              "    </tr>\n",
              "    <tr>\n",
              "      <th>24</th>\n",
              "      <td>US</td>\n",
              "      <td>17675324</td>\n",
              "      <td>B00HXXO332</td>\n",
              "      <td>849307176</td>\n",
              "      <td>Pulse Oximeter, Blood Oxygen Monitor</td>\n",
              "      <td>Personal_Care_Appliances</td>\n",
              "      <td>5</td>\n",
              "      <td>1</td>\n",
              "      <td>1</td>\n",
              "      <td>N</td>\n",
              "      <td>Y</td>\n",
              "      <td>My daughter is going to nursing school and rec...</td>\n",
              "      <td>My daughter is going to nursing school and rec...</td>\n",
              "      <td>2015-08-31</td>\n",
              "    </tr>\n",
              "  </tbody>\n",
              "</table>\n",
              "</div>"
            ],
            "text/plain": [
              "   marketplace  ...  review_date\n",
              "2           US  ...   2015-08-31\n",
              "21          US  ...   2015-08-31\n",
              "24          US  ...   2015-08-31\n",
              "\n",
              "[3 rows x 14 columns]"
            ]
          },
          "metadata": {
            "tags": []
          },
          "execution_count": 28
        }
      ]
    },
    {
      "cell_type": "markdown",
      "metadata": {
        "id": "v4MayWQE0Cjj",
        "colab_type": "text"
      },
      "source": [
        "## **Conclusion**:The above format and data helps the buyers to buy the products easily and to get an overview on the product what the user want to buy and it reduces the time to buyers to find the best and quality product in the market."
      ]
    },
    {
      "cell_type": "markdown",
      "metadata": {
        "id": "kw6BmvVI_Xwg",
        "colab_type": "text"
      },
      "source": [
        "\n",
        "\n",
        "#  TEAM NAME:ASPIRANTS\n",
        "#  BRANCH:ECE-B\n",
        "1.      19PA1A0495         MAHITA.V                     \n",
        "2.      19PA1A0462         MONIKA.J                      \n",
        "3.      19PA1A0497         SARANYA.M                     \n",
        "4.      19PA1A0463         HARIKA.J                      "
      ]
    }
  ]
}